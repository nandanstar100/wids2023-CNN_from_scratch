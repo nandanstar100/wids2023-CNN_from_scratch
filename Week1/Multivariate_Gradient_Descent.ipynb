{
  "nbformat": 4,
  "nbformat_minor": 0,
  "metadata": {
    "colab": {
      "provenance": []
    },
    "kernelspec": {
      "name": "python3",
      "display_name": "Python 3"
    },
    "language_info": {
      "name": "python"
    }
  },
  "cells": [
    {
      "cell_type": "markdown",
      "source": [
        "In this part of the assignment you have to implement multivariate gradient descent to find the minimas (local and global) of the given function:\n",
        "Note : you can find different minimas by changing your initialisation.  \n",
        "$f(x) = x^4 + x^2y^2 - y^2 + y^4 + 6$"
      ],
      "metadata": {
        "id": "n_ZwYtYkkhMw"
      }
    },
    {
      "cell_type": "code",
      "execution_count": 26,
      "metadata": {
        "id": "AGC301Ynkcth",
        "colab": {
          "base_uri": "https://localhost:8080/"
        },
        "outputId": "0b0ee40a-e87a-4f99-d1d5-69b4fa6c0b4f"
      },
      "outputs": [
        {
          "output_type": "stream",
          "name": "stdout",
          "text": [
            "(0, 0)\n"
          ]
        }
      ],
      "source": [
        "#start your code here :)\n",
        "alpha=10**(-4)\n",
        "def fx(a,b):\n",
        "  return  4*a**3+2*a*b**2\n",
        "def fy(a,b):\n",
        "  return 2*a**2*b-2*b+4*b**3\n",
        "def f(a,b):\n",
        "  return a**4+a**2*b**2-b**2+b**4+6\n",
        "def findminima(r,s):\n",
        "  x=r\n",
        "  y=s\n",
        "  while(abs(fx(x,y))>=alpha or abs(fy(x,y))>=alpha):\n",
        "    a=x-fx(x,y)*alpha\n",
        "    b=y-fy(x,y)*alpha\n",
        "    x=a\n",
        "    y=b\n",
        "  return (round(x, 2),round(y, 2))\n",
        "print(findminima(1,1))\n",
        "\n",
        "\n",
        "\n"
      ]
    },
    {
      "cell_type": "markdown",
      "source": [
        "local minimas detected are (0,+-1/sqrt(2))\n"
      ],
      "metadata": {
        "id": "MvnXUH06rM9Y"
      }
    }
  ]
}
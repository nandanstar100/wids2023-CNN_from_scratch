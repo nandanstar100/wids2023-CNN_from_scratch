{
  "nbformat": 4,
  "nbformat_minor": 0,
  "metadata": {
    "colab": {
      "provenance": []
    },
    "kernelspec": {
      "name": "python3",
      "display_name": "Python 3"
    },
    "language_info": {
      "name": "python"
    }
  },
  "cells": [
    {
      "cell_type": "markdown",
      "source": [
        "# Linear Regression\n",
        "\n",
        "Linear regression analysis is used to predict the value of a variable based on the value of another variable. The variable you want to predict is called the dependent variable. The variable you are using to predict the other variable's value is called the independent variable\n",
        "\n",
        "This week, your task involves conducting multi-class linear regression on batsmen salaries. You'll use the average runs scored per game and the strike rate as independent variables. The goal is to predict the salary as the dependent variable. Additionally, you'll be categorizing the data based on the years.\n",
        "\n",
        "The dataset is Data_Mendeley.csv given on GitHub. Feel free to create any new functions required."
      ],
      "metadata": {
        "id": "4OSeJ-R-y9s7"
      }
    },
    {
      "cell_type": "code",
      "source": [
        "#import important libraries\n",
        "import numpy as np\n",
        "from sklearn import datasets\n",
        "import matplotlib.pyplot as plt"
      ],
      "metadata": {
        "id": "AZ77VEImzRW5"
      },
      "execution_count": null,
      "outputs": []
    },
    {
      "cell_type": "markdown",
      "source": [
        "preparing data"
      ],
      "metadata": {
        "id": "2oQPpSttzqt6"
      }
    },
    {
      "cell_type": "code",
      "source": [
        "#mounting gdrive\n",
        "from google.colab import files\n",
        "\n",
        "\n",
        "uploaded = files.upload()"
      ],
      "metadata": {
        "id": "NgyvUuEMAVEr",
        "colab": {
          "base_uri": "https://localhost:8080/",
          "height": 73
        },
        "outputId": "5040d1bd-0179-4e6e-8918-c5cd574e4490"
      },
      "execution_count": null,
      "outputs": [
        {
          "output_type": "display_data",
          "data": {
            "text/plain": [
              "<IPython.core.display.HTML object>"
            ],
            "text/html": [
              "\n",
              "     <input type=\"file\" id=\"files-caed22c6-dd63-45ea-83a6-4087f84d4071\" name=\"files[]\" multiple disabled\n",
              "        style=\"border:none\" />\n",
              "     <output id=\"result-caed22c6-dd63-45ea-83a6-4087f84d4071\">\n",
              "      Upload widget is only available when the cell has been executed in the\n",
              "      current browser session. Please rerun this cell to enable.\n",
              "      </output>\n",
              "      <script>// Copyright 2017 Google LLC\n",
              "//\n",
              "// Licensed under the Apache License, Version 2.0 (the \"License\");\n",
              "// you may not use this file except in compliance with the License.\n",
              "// You may obtain a copy of the License at\n",
              "//\n",
              "//      http://www.apache.org/licenses/LICENSE-2.0\n",
              "//\n",
              "// Unless required by applicable law or agreed to in writing, software\n",
              "// distributed under the License is distributed on an \"AS IS\" BASIS,\n",
              "// WITHOUT WARRANTIES OR CONDITIONS OF ANY KIND, either express or implied.\n",
              "// See the License for the specific language governing permissions and\n",
              "// limitations under the License.\n",
              "\n",
              "/**\n",
              " * @fileoverview Helpers for google.colab Python module.\n",
              " */\n",
              "(function(scope) {\n",
              "function span(text, styleAttributes = {}) {\n",
              "  const element = document.createElement('span');\n",
              "  element.textContent = text;\n",
              "  for (const key of Object.keys(styleAttributes)) {\n",
              "    element.style[key] = styleAttributes[key];\n",
              "  }\n",
              "  return element;\n",
              "}\n",
              "\n",
              "// Max number of bytes which will be uploaded at a time.\n",
              "const MAX_PAYLOAD_SIZE = 100 * 1024;\n",
              "\n",
              "function _uploadFiles(inputId, outputId) {\n",
              "  const steps = uploadFilesStep(inputId, outputId);\n",
              "  const outputElement = document.getElementById(outputId);\n",
              "  // Cache steps on the outputElement to make it available for the next call\n",
              "  // to uploadFilesContinue from Python.\n",
              "  outputElement.steps = steps;\n",
              "\n",
              "  return _uploadFilesContinue(outputId);\n",
              "}\n",
              "\n",
              "// This is roughly an async generator (not supported in the browser yet),\n",
              "// where there are multiple asynchronous steps and the Python side is going\n",
              "// to poll for completion of each step.\n",
              "// This uses a Promise to block the python side on completion of each step,\n",
              "// then passes the result of the previous step as the input to the next step.\n",
              "function _uploadFilesContinue(outputId) {\n",
              "  const outputElement = document.getElementById(outputId);\n",
              "  const steps = outputElement.steps;\n",
              "\n",
              "  const next = steps.next(outputElement.lastPromiseValue);\n",
              "  return Promise.resolve(next.value.promise).then((value) => {\n",
              "    // Cache the last promise value to make it available to the next\n",
              "    // step of the generator.\n",
              "    outputElement.lastPromiseValue = value;\n",
              "    return next.value.response;\n",
              "  });\n",
              "}\n",
              "\n",
              "/**\n",
              " * Generator function which is called between each async step of the upload\n",
              " * process.\n",
              " * @param {string} inputId Element ID of the input file picker element.\n",
              " * @param {string} outputId Element ID of the output display.\n",
              " * @return {!Iterable<!Object>} Iterable of next steps.\n",
              " */\n",
              "function* uploadFilesStep(inputId, outputId) {\n",
              "  const inputElement = document.getElementById(inputId);\n",
              "  inputElement.disabled = false;\n",
              "\n",
              "  const outputElement = document.getElementById(outputId);\n",
              "  outputElement.innerHTML = '';\n",
              "\n",
              "  const pickedPromise = new Promise((resolve) => {\n",
              "    inputElement.addEventListener('change', (e) => {\n",
              "      resolve(e.target.files);\n",
              "    });\n",
              "  });\n",
              "\n",
              "  const cancel = document.createElement('button');\n",
              "  inputElement.parentElement.appendChild(cancel);\n",
              "  cancel.textContent = 'Cancel upload';\n",
              "  const cancelPromise = new Promise((resolve) => {\n",
              "    cancel.onclick = () => {\n",
              "      resolve(null);\n",
              "    };\n",
              "  });\n",
              "\n",
              "  // Wait for the user to pick the files.\n",
              "  const files = yield {\n",
              "    promise: Promise.race([pickedPromise, cancelPromise]),\n",
              "    response: {\n",
              "      action: 'starting',\n",
              "    }\n",
              "  };\n",
              "\n",
              "  cancel.remove();\n",
              "\n",
              "  // Disable the input element since further picks are not allowed.\n",
              "  inputElement.disabled = true;\n",
              "\n",
              "  if (!files) {\n",
              "    return {\n",
              "      response: {\n",
              "        action: 'complete',\n",
              "      }\n",
              "    };\n",
              "  }\n",
              "\n",
              "  for (const file of files) {\n",
              "    const li = document.createElement('li');\n",
              "    li.append(span(file.name, {fontWeight: 'bold'}));\n",
              "    li.append(span(\n",
              "        `(${file.type || 'n/a'}) - ${file.size} bytes, ` +\n",
              "        `last modified: ${\n",
              "            file.lastModifiedDate ? file.lastModifiedDate.toLocaleDateString() :\n",
              "                                    'n/a'} - `));\n",
              "    const percent = span('0% done');\n",
              "    li.appendChild(percent);\n",
              "\n",
              "    outputElement.appendChild(li);\n",
              "\n",
              "    const fileDataPromise = new Promise((resolve) => {\n",
              "      const reader = new FileReader();\n",
              "      reader.onload = (e) => {\n",
              "        resolve(e.target.result);\n",
              "      };\n",
              "      reader.readAsArrayBuffer(file);\n",
              "    });\n",
              "    // Wait for the data to be ready.\n",
              "    let fileData = yield {\n",
              "      promise: fileDataPromise,\n",
              "      response: {\n",
              "        action: 'continue',\n",
              "      }\n",
              "    };\n",
              "\n",
              "    // Use a chunked sending to avoid message size limits. See b/62115660.\n",
              "    let position = 0;\n",
              "    do {\n",
              "      const length = Math.min(fileData.byteLength - position, MAX_PAYLOAD_SIZE);\n",
              "      const chunk = new Uint8Array(fileData, position, length);\n",
              "      position += length;\n",
              "\n",
              "      const base64 = btoa(String.fromCharCode.apply(null, chunk));\n",
              "      yield {\n",
              "        response: {\n",
              "          action: 'append',\n",
              "          file: file.name,\n",
              "          data: base64,\n",
              "        },\n",
              "      };\n",
              "\n",
              "      let percentDone = fileData.byteLength === 0 ?\n",
              "          100 :\n",
              "          Math.round((position / fileData.byteLength) * 100);\n",
              "      percent.textContent = `${percentDone}% done`;\n",
              "\n",
              "    } while (position < fileData.byteLength);\n",
              "  }\n",
              "\n",
              "  // All done.\n",
              "  yield {\n",
              "    response: {\n",
              "      action: 'complete',\n",
              "    }\n",
              "  };\n",
              "}\n",
              "\n",
              "scope.google = scope.google || {};\n",
              "scope.google.colab = scope.google.colab || {};\n",
              "scope.google.colab._files = {\n",
              "  _uploadFiles,\n",
              "  _uploadFilesContinue,\n",
              "};\n",
              "})(self);\n",
              "</script> "
            ]
          },
          "metadata": {}
        },
        {
          "output_type": "stream",
          "name": "stdout",
          "text": [
            "Saving Data_Mendeley.csv to Data_Mendeley.csv\n"
          ]
        }
      ]
    },
    {
      "cell_type": "code",
      "source": [
        "import pandas as pd\n",
        "df = pd.read_csv('Data_Mendeley.csv')\n",
        "unique_years=df['Year'].unique()\n",
        "\n",
        "yearlist={}\n",
        "for x in unique_years:\n",
        "  yearlist[x]=(df[df['Year']==x])\n",
        "x1={}\n",
        "x2={}\n",
        "y={}\n",
        "for a in unique_years:\n",
        "  x1[a]=yearlist[a][\"Ave\"].to_list()\n",
        "  x2[a]=yearlist[a][\"StrRate\"].to_list()\n",
        "  y[a]=yearlist[a][\"Final Price\"].to_list()"
      ],
      "metadata": {
        "id": "C9C0MZOGzg7g"
      },
      "execution_count": null,
      "outputs": []
    },
    {
      "cell_type": "markdown",
      "source": [
        "Forward pass"
      ],
      "metadata": {
        "id": "LV9ROCrR1hQ5"
      }
    },
    {
      "cell_type": "code",
      "source": [
        "def forward(x,w,b):\n",
        "    y_pred = np.dot(x, w) + b\n",
        "    return y_pred\n",
        "# for i in unique_years:\n",
        "#   x=[x1[i][0],x2[i][0]]\n",
        "#   print(x)\n",
        "#   alpha=[]\n",
        "#   alpha=np.concatenate((alpha,x))\n",
        "# print(alpha)\n",
        "\n",
        "\n"
      ],
      "metadata": {
        "id": "AgySD6Ac1DCw",
        "colab": {
          "base_uri": "https://localhost:8080/"
        },
        "outputId": "7acc9f5c-ba7c-478a-9388-aa1aa8ea2e28"
      },
      "execution_count": null,
      "outputs": [
        {
          "output_type": "stream",
          "name": "stdout",
          "text": [
            "[19.0, 96.93]\n",
            "[51.66, 130.98]\n",
            "[15.85, 93.27]\n",
            "[34.66, 128.39]\n",
            "[39.87, 161.11]\n",
            "[36.0, 164.38]\n",
            "[35.9, 158.63]\n",
            "[46.63, 175.08]\n",
            "[52.84, 168.79]\n",
            "[27.0, 132.51]\n",
            "[ 27.   132.51]\n"
          ]
        }
      ]
    },
    {
      "cell_type": "markdown",
      "source": [
        "Mean Squared Loss"
      ],
      "metadata": {
        "id": "B3uHaq5x1i7p"
      }
    },
    {
      "cell_type": "code",
      "source": [
        "def loss(y,y_pred): #Mean Squared Loss\n",
        "   mse = np.mean((y - y_pred)**2)\n",
        "   return mse"
      ],
      "metadata": {
        "id": "eP2rV0z21IaN"
      },
      "execution_count": null,
      "outputs": []
    },
    {
      "cell_type": "markdown",
      "source": [
        "Implement Linear regression here :)"
      ],
      "metadata": {
        "id": "0JoKzzr_1uvt"
      }
    },
    {
      "cell_type": "code",
      "source": [
        "def train(x, y, learning_rate, epochs):\n",
        "    num_samples, num_features = x.shape\n",
        "    w = np.zeros(num_features)\n",
        "    b = 0\n",
        "    print(num_samples)\n",
        "\n",
        "    for epoch in range(epochs):\n",
        "        y_pred = forward(x,w,b)\n",
        "        dw = (1 / num_samples) *np.dot(x.T, ( y_pred-y))\n",
        "        db =  (1 / num_samples)*np.sum( y_pred-y)\n",
        "        w =w- learning_rate * dw\n",
        "        b =b- learning_rate * db\n",
        "    print(w,b)\n",
        "    return w, b\n",
        "\n",
        "learning_rate=0.0000001\n",
        "epochs=100\n",
        "\n",
        "for year in unique_years:\n",
        "    print(year)\n",
        "    x = np.column_stack((x1[year], x2[year]))\n",
        "    y_values = np.array(y[year])\n",
        "    w, b = train(x, y_values,learning_rate,epochs)\n",
        "    predictions = forward(x, w, b)\n",
        "    print(predictions)"
      ],
      "metadata": {
        "id": "k2W3q6eR1d2J",
        "colab": {
          "base_uri": "https://localhost:8080/"
        },
        "outputId": "2b81ad13-0f18-45db-d8da-32e27ffb3bf8"
      },
      "execution_count": null,
      "outputs": [
        {
          "output_type": "stream",
          "name": "stdout",
          "text": [
            "2008\n",
            "47\n",
            "[ 3587.89913779 16643.55721532] 136.93635822434243\n",
            "[1.68156702e+06 2.57690912e+06 3.98769200e+05 1.36936358e+02\n",
            " 2.58438236e+06 1.51050669e+06 3.94867499e+05 8.39490595e+05\n",
            " 3.62589918e+06 1.36936358e+02 6.73055023e+05 2.08181402e+05\n",
            " 2.34218902e+06 2.34782639e+06 2.31731773e+06 2.49240273e+06\n",
            " 2.99104397e+06 8.32314797e+05 1.95801769e+06 1.70395955e+06\n",
            " 1.36936358e+02 2.37125659e+06 5.60248547e+05 2.12976154e+06\n",
            " 3.09763808e+06 1.36936358e+02 1.79094167e+06 2.61967288e+06\n",
            " 8.35902696e+05 1.94234713e+06 2.08199194e+06 2.25061624e+06\n",
            " 2.03653633e+06 2.59479819e+06 2.21044206e+06 2.69531202e+06\n",
            " 2.57046483e+06 2.05382186e+06 2.57303667e+06 2.50449254e+06\n",
            " 1.92123154e+06 1.80302685e+06 3.19291761e+06 2.33797781e+06\n",
            " 3.09097614e+06 2.78723666e+06 1.34647371e+06]\n",
            "2009\n",
            "56\n",
            "[ 3189.26055817 16453.55941533] 147.10537527914605\n",
            "[2.31999152e+06 2.15763329e+06 2.00290756e+06 2.35745640e+06\n",
            " 2.16672883e+06 2.07611483e+06 1.47105375e+02 1.64550305e+06\n",
            " 1.10013064e+06 2.03781447e+06 2.05855767e+06 1.47105375e+02\n",
            " 2.10607861e+06 8.85550213e+05 2.29851236e+06 1.85383767e+06\n",
            " 1.47105375e+02 1.76288849e+06 1.97031715e+06 2.64135897e+06\n",
            " 2.10372066e+06 2.05060075e+06 2.01523365e+06 2.00838796e+06\n",
            " 1.84976458e+06 1.47105375e+02 2.22539418e+06 2.61053825e+06\n",
            " 1.16793037e+06 2.07010117e+06 1.62383120e+06 1.67101713e+06\n",
            " 1.52140226e+06 1.99616160e+06 1.90459335e+06 1.43673652e+06\n",
            " 2.36156390e+05 2.36649544e+06 7.36446103e+05 1.99612545e+06\n",
            " 9.03129513e+05 1.91035092e+06 1.74458575e+06 1.97977917e+06\n",
            " 1.82402158e+06 1.49443207e+06 1.83851610e+06 2.41732070e+06\n",
            " 1.47105375e+02 1.78753084e+06 1.91952276e+06 2.42388663e+06\n",
            " 2.96593439e+06 2.24943325e+06 1.99318847e+06 1.22216403e+06]\n",
            "2010\n",
            "69\n",
            "[ 3364.2826128  16363.87869965] 123.67637893207115\n",
            "[1.57970652e+06 1.70716148e+06 2.06242993e+06 1.95858816e+06\n",
            " 2.31479268e+06 2.55662630e+06 2.46025462e+06 1.28427124e+06\n",
            " 2.18424496e+06 1.95934823e+06 1.23676379e+02 2.10402756e+06\n",
            " 1.79179448e+06 2.70604492e+06 1.26240340e+06 2.51095950e+06\n",
            " 1.23676379e+02 1.99137137e+06 1.91274538e+06 1.94836130e+06\n",
            " 2.19232813e+06 1.15149692e+06 2.81564012e+06 1.23676379e+02\n",
            " 2.54426375e+06 5.97790651e+05 2.06680937e+06 6.58043107e+05\n",
            " 2.30608293e+06 2.65827096e+06 3.11559702e+06 1.63651155e+06\n",
            " 2.34366467e+06 1.87274106e+06 2.17362702e+06 2.07754926e+06\n",
            " 1.43840146e+06 1.85627003e+06 3.63718410e+06 9.50870397e+05\n",
            " 2.68515809e+06 2.27040967e+06 1.55192103e+06 1.73272037e+06\n",
            " 6.17133410e+05 8.25046177e+05 1.85768604e+06 2.33712669e+06\n",
            " 2.00066270e+06 1.25264670e+06 2.91217811e+06 2.28617928e+06\n",
            " 2.31956133e+06 2.78013237e+06 2.27493204e+06 1.90286325e+06\n",
            " 2.03158397e+06 1.93268374e+06 2.49673339e+06 1.23676379e+02\n",
            " 1.22741458e+06 1.98397482e+06 1.40345303e+06 2.46364044e+06\n",
            " 2.75786513e+06 2.14380601e+06 2.80448630e+06 2.16848210e+06\n",
            " 3.10180211e+06]\n",
            "2011\n",
            "90\n",
            "[ 6149.4989001  26721.79056621] 246.87411467607947\n",
            "[3.64419920e+06 2.77856279e+06 3.66303409e+06 2.48656082e+06\n",
            " 3.80897342e+06 3.39505289e+06 2.46874115e+02 3.75687639e+06\n",
            " 3.18927830e+06 3.81297123e+06 2.46874115e+02 2.46874115e+02\n",
            " 2.46874115e+02 2.46874115e+02 2.67242593e+06 3.55592853e+06\n",
            " 3.63786775e+06 5.30920703e+06 2.80392852e+06 3.29036338e+06\n",
            " 1.34863540e+06 3.58305765e+06 2.04184747e+06 4.96679723e+06\n",
            " 3.22269670e+06 2.46874115e+02 3.39784996e+06 2.46874115e+02\n",
            " 4.08788933e+06 3.34047069e+06 3.01994140e+06 2.13799012e+06\n",
            " 3.27440575e+06 2.46874115e+02 2.46874115e+02 3.38712702e+06\n",
            " 2.46874115e+02 2.12839120e+06 2.46874115e+02 3.02328051e+06\n",
            " 2.39163729e+06 4.50880571e+06 3.13562234e+06 3.06415312e+06\n",
            " 3.26728216e+06 2.25032530e+06 3.26390817e+06 3.42799392e+06\n",
            " 2.46874115e+02 2.54692671e+06 2.46874115e+02 4.39872334e+06\n",
            " 3.58794491e+06 2.73123004e+06 3.07401799e+06 2.43064952e+06\n",
            " 2.46874115e+02 2.38279310e+06 3.10320909e+06 3.08786926e+06\n",
            " 8.97033653e+05 3.51029576e+06 2.46874115e+02 3.53782301e+06\n",
            " 3.55506570e+06 4.24585791e+06 2.80170995e+06 2.46874115e+02\n",
            " 3.61161382e+06 3.68850348e+06 4.17353536e+06 3.65312231e+06\n",
            " 4.34253784e+06 2.46874115e+02 3.41702404e+06 3.72869775e+06\n",
            " 3.79363170e+06 2.34712823e+06 2.46874115e+02 5.40832184e+05\n",
            " 4.51581404e+05 2.46874115e+02 2.46874115e+02 2.89413628e+06\n",
            " 3.52111952e+06 4.95792008e+06 3.30249566e+06 3.93643859e+06\n",
            " 3.72268518e+06 2.40297329e+06]\n",
            "2012\n",
            "95\n",
            "[ 5593.71825425 28895.32138941] 246.7626750830181\n",
            "[4.87859354e+06 3.27014547e+06 2.46762675e+02 2.73760990e+06\n",
            " 2.46762675e+02 2.46762675e+02 3.96102741e+06 4.63239760e+06\n",
            " 4.02544211e+06 2.34168699e+06 5.35481744e+06 3.49951765e+06\n",
            " 4.03465527e+06 2.64879192e+06 1.16724705e+06 3.91500991e+06\n",
            " 2.46762675e+02 2.96434317e+06 4.56097028e+06 2.75113603e+06\n",
            " 3.08573372e+06 4.98654503e+06 2.63566262e+06 3.95840029e+06\n",
            " 4.94653128e+06 5.77931104e+06 3.33108607e+06 5.69666002e+06\n",
            " 4.32028699e+06 4.84883069e+06 3.96870994e+06 4.36817109e+06\n",
            " 1.60975990e+06 3.96823977e+06 2.93173179e+06 1.92640889e+06\n",
            " 4.17697133e+06 4.16592104e+06 2.46762675e+02 3.19029598e+06\n",
            " 3.18471319e+06 3.37117496e+06 4.59890023e+06 4.13491390e+06\n",
            " 3.04995272e+06 3.88795791e+06 3.80104520e+06 3.80353617e+06\n",
            " 3.19962995e+06 4.01695286e+06 2.46762675e+02 4.22933207e+06\n",
            " 3.37824744e+06 2.46762675e+02 3.77997348e+06 1.74235662e+06\n",
            " 3.78097569e+06 3.41906359e+06 3.49608695e+06 2.31187247e+06\n",
            " 3.68770994e+06 3.55480499e+06 1.04608299e+06 3.43639771e+06\n",
            " 5.28360565e+05 3.67738469e+06 3.50124764e+06 3.74421202e+06\n",
            " 3.56294775e+06 3.83135222e+06 2.94851294e+06 3.38015818e+06\n",
            " 2.46762675e+02 3.63830520e+06 4.62371167e+06 3.63851748e+06\n",
            " 3.97269808e+06 5.05692801e+06 4.14285378e+06 4.00732499e+06\n",
            " 3.28565627e+06 3.76566170e+06 4.06615397e+06 2.46762675e+02\n",
            " 1.30672972e+06 8.31379813e+05 3.16037032e+06 9.66124684e+05\n",
            " 2.46762675e+02 3.24527123e+06 3.38303351e+06 4.84363213e+06\n",
            " 1.27197359e+06 3.42565884e+06 2.07324086e+06]\n",
            "2013\n",
            "116\n",
            "[ 5526.33800242 26630.5964345 ] 226.23194927859558\n",
            "[4.57671184e+06 3.79425730e+06 2.67433855e+06 2.46868817e+06\n",
            " 2.26231949e+02 4.03542608e+06 3.03030916e+06 3.39566074e+06\n",
            " 3.15958026e+06 2.55083811e+06 2.12298705e+06 3.43127836e+06\n",
            " 2.26231949e+02 3.34490272e+05 3.85534082e+06 2.20374385e+06\n",
            " 3.49781847e+06 1.99139024e+06 2.26231949e+02 2.26231949e+02\n",
            " 2.31589268e+06 3.56807115e+06 4.48837609e+06 2.36908779e+06\n",
            " 4.06723060e+06 3.67066895e+06 4.71253482e+06 3.55469327e+06\n",
            " 2.26231949e+02 3.46111179e+06 3.55385129e+06 3.12366705e+06\n",
            " 3.44227651e+06 3.56073065e+06 3.29242682e+06 3.65035774e+06\n",
            " 3.10219800e+06 2.40394091e+06 4.01722082e+06 1.52189851e+06\n",
            " 2.58614905e+06 2.26231949e+02 2.26231949e+02 2.66328588e+06\n",
            " 2.72628613e+06 2.26231949e+02 2.24187883e+06 2.60916751e+06\n",
            " 2.74956276e+06 2.02238949e+06 3.38458154e+06 4.21254137e+06\n",
            " 1.34419031e+06 3.38431417e+06 4.56963765e+06 3.77578622e+06\n",
            " 3.21561423e+06 2.76907236e+06 2.87812050e+06 2.98603366e+06\n",
            " 2.95198141e+06 3.73819226e+06 2.93900054e+06 2.03666794e+06\n",
            " 1.35938774e+06 2.26231949e+02 3.74342640e+06 5.29747021e+06\n",
            " 3.02848481e+06 2.44671695e+06 4.04455274e+06 3.19541820e+06\n",
            " 1.50718755e+06 2.98855327e+05 2.26231949e+02 2.26231949e+02\n",
            " 3.04922036e+06 1.34280873e+06 3.25275063e+06 1.33175605e+06\n",
            " 1.07650277e+06 1.73842325e+06 3.38694712e+06 1.95053889e+06\n",
            " 4.10381104e+06 2.70197024e+06 3.26534769e+06 3.71553679e+06\n",
            " 3.74978746e+06 2.26231949e+02 2.26231949e+02 3.22448836e+06\n",
            " 2.88924317e+06 1.39649640e+06 4.01978354e+06 3.41591817e+06\n",
            " 3.48846790e+06 2.07128772e+06 3.42755351e+06 4.10093125e+06\n",
            " 2.82693489e+06 4.21060136e+06 2.98212412e+06 4.23121282e+06\n",
            " 3.93556736e+06 2.87328672e+06 2.76027311e+06 2.26231949e+02\n",
            " 4.62373148e+06 3.94492146e+06 3.50749713e+06 3.45798025e+06\n",
            " 3.85082152e+06 3.44556202e+06 2.26231949e+02 2.26231949e+02]\n",
            "2014\n",
            "138\n",
            "[ 7044.94210776 33781.07961623] 301.2778545003047\n",
            "[5.61190736e+06 4.16713275e+06 3.19154846e+06 1.35127331e+07\n",
            " 4.45449252e+06 4.13447886e+06 3.81344890e+06 4.43090408e+06\n",
            " 1.95873194e+06 8.51873210e+05 3.94847505e+06 3.01277855e+02\n",
            " 3.01277855e+02 3.01277855e+02 1.15440443e+06 3.56367449e+06\n",
            " 4.56069216e+06 3.01277855e+02 3.01277855e+02 3.01277855e+02\n",
            " 8.51873210e+05 4.32820613e+06 3.80417556e+06 3.75203027e+06\n",
            " 2.91015785e+06 4.11807281e+06 5.35329153e+06 5.09483451e+06\n",
            " 3.01277855e+02 4.72965242e+06 4.41887917e+06 2.25214805e+06\n",
            " 9.00836397e+06 4.84539676e+06 4.54971358e+06 4.01980567e+06\n",
            " 4.77066320e+06 6.58574948e+06 3.01277855e+02 3.82323387e+06\n",
            " 6.31957770e+06 2.73096742e+06 3.01277855e+02 3.63464014e+06\n",
            " 3.01277855e+02 3.01277855e+02 4.90220728e+06 5.70139006e+05\n",
            " 6.82363179e+06 1.12622466e+06 3.01277855e+02 1.69640020e+06\n",
            " 3.37840924e+06 4.96644912e+06 5.03780513e+06 5.19362542e+06\n",
            " 4.46991920e+06 4.78355429e+06 1.70344514e+06 4.97041099e+06\n",
            " 3.56546689e+06 5.53614820e+06 4.98288055e+06 3.17465446e+06\n",
            " 4.20170782e+06 4.56580838e+06 1.14735949e+06 1.69640020e+06\n",
            " 4.37045213e+06 4.04296621e+06 3.91524081e+06 3.51836510e+06\n",
            " 5.26405465e+06 1.45838795e+06 1.12622466e+06 2.20345132e+06\n",
            " 4.50433262e+06 3.77475483e+06 5.14017450e+06 3.01277855e+02\n",
            " 3.91716259e+06 3.88800402e+06 3.01277855e+02 3.01277855e+02\n",
            " 3.01277855e+02 3.01277855e+02 3.01277855e+02 5.58445867e+06\n",
            " 1.71753503e+06 1.69640020e+06 1.89445261e+06 4.12992852e+06\n",
            " 3.01277855e+02 4.27045782e+06 4.36496978e+06 3.48408337e+06\n",
            " 4.68943847e+06 3.30514182e+06 3.98242934e+06 4.96463588e+06\n",
            " 4.57380035e+06 3.01277855e+02 5.41477024e+06 3.01277855e+02\n",
            " 1.35154446e+06 4.37855957e+06 3.01277855e+02 1.26945355e+06\n",
            " 5.27356473e+06 4.27735551e+06 3.01277855e+02 4.79414538e+06\n",
            " 4.19685259e+06 5.66548072e+06 3.79371440e+06 3.37840924e+06\n",
            " 4.77336857e+06 3.52080081e+06 2.44817069e+06 5.21845941e+06\n",
            " 4.96646931e+06 3.01277855e+02 3.40658901e+06 1.70344514e+06\n",
            " 7.65006751e+05 3.47772561e+06 3.01277855e+02 3.87005675e+06\n",
            " 1.68935526e+06 2.26623793e+06 4.31948195e+06 5.06816307e+06\n",
            " 5.14317323e+06 4.00733785e+06 5.69675216e+06 4.80998842e+06\n",
            " 3.37840924e+06 3.91716259e+06]\n",
            "2015\n",
            "154\n",
            "[ 5902.57803161 30636.04679363] 269.91940030320825\n",
            "[5.63926621e+06 2.20317567e+06 2.69919400e+02 6.18650506e+06\n",
            " 2.56446642e+06 2.69919400e+02 4.29569059e+06 2.69919400e+02\n",
            " 4.56104062e+06 4.64485046e+06 2.06607911e+06 6.12344836e+06\n",
            " 4.36355299e+06 3.61558918e+06 1.81441426e+06 4.43655246e+05\n",
            " 5.00551391e+06 2.69919400e+02 3.76232248e+06 2.66150096e+06\n",
            " 2.69919400e+02 1.53207226e+06 5.30874170e+06 1.53797484e+06\n",
            " 3.61558918e+06 4.96852221e+06 2.47476398e+06 4.75872313e+06\n",
            " 5.28594918e+06 4.83137092e+06 2.25117198e+06 4.30347242e+06\n",
            " 5.05120513e+06 4.52632815e+06 4.96854943e+06 1.12600174e+06\n",
            " 3.76783194e+06 2.69919400e+02 1.02727194e+06 4.16441892e+06\n",
            " 3.79617436e+06 3.93218120e+06 4.00230812e+06 3.75213158e+06\n",
            " 4.31521614e+06 4.04420852e+06 2.69919400e+02 2.79086680e+06\n",
            " 3.47128839e+06 5.00894122e+06 5.66658316e+06 4.87330500e+06\n",
            " 2.58268459e+06 3.46326686e+06 2.69919400e+02 2.69919400e+02\n",
            " 2.69919400e+02 4.27082592e+06 2.69919400e+02 4.15384447e+06\n",
            " 2.69919400e+02 2.69919400e+02 6.39248898e+06 3.06387460e+06\n",
            " 2.69919400e+02 3.70057437e+06 2.17142649e+06 3.85088192e+06\n",
            " 3.92135869e+06 4.27555513e+06 2.69919400e+02 5.23930090e+06\n",
            " 1.83843273e+06 4.01696350e+06 3.62027925e+06 3.91962211e+06\n",
            " 3.17067613e+06 4.94246507e+06 3.86715344e+06 3.28663024e+06\n",
            " 3.88781126e+06 2.69919400e+02 3.82636043e+06 3.48385969e+06\n",
            " 2.68408489e+06 6.71460933e+06 2.47227247e+06 4.82077805e+06\n",
            " 4.40908434e+06 4.08497404e+06 3.50732376e+06 3.54974846e+06\n",
            " 3.43375397e+06 1.77442395e+06 4.37579738e+06 3.06387460e+06\n",
            " 2.69919400e+02 4.95392514e+06 2.69919400e+02 3.59973014e+06\n",
            " 2.69919400e+02 2.11692969e+06 1.83843273e+06 5.09424400e+06\n",
            " 2.69919400e+02 2.69919400e+02 2.69919400e+02 3.87319822e+06\n",
            " 5.08091920e+06 3.32096578e+06 4.33063452e+06 3.44860267e+06\n",
            " 4.20487166e+06 4.63769807e+06 3.06387460e+06 4.27298547e+06\n",
            " 2.02267821e+06 3.95478377e+06 4.95339966e+06 4.28135110e+06\n",
            " 3.57932633e+06 8.87346932e+05 4.15580497e+06 4.39243741e+06\n",
            " 3.57427114e+06 4.39812106e+06 3.94162581e+06 2.69919400e+02\n",
            " 3.06387460e+06 4.13198392e+06 2.69919400e+02 2.69919400e+02\n",
            " 4.21887630e+06 3.54438118e+06 2.69919400e+02 2.69919400e+02\n",
            " 2.69919400e+02 3.91626767e+06 4.35947686e+06 2.48656913e+06\n",
            " 4.50207403e+06 2.69919400e+02 2.69919400e+02 6.51739542e+06\n",
            " 3.88554630e+06 6.16289475e+06 2.69919400e+02 4.27900589e+06\n",
            " 3.68374292e+06 3.98539424e+06 4.40105230e+06 3.73064285e+06\n",
            " 3.06387460e+06 2.69919400e+02]\n",
            "2016\n",
            "165\n",
            "[ 5505.90451398 25336.0430808 ] 256.72679737395475\n",
            "[4.56765943e+06 3.54655492e+06 2.56726797e+02 2.56726797e+02\n",
            " 2.56726797e+02 2.56726797e+02 1.37345152e+06 3.44903584e+06\n",
            " 2.56726797e+02 2.56726797e+02 1.91356676e+06 2.56726797e+02\n",
            " 3.21128820e+06 7.35119287e+05 2.56726797e+02 2.56726797e+02\n",
            " 2.56726797e+02 2.53386103e+06 2.56726797e+02 2.53386103e+06\n",
            " 2.56726797e+02 2.56726797e+02 3.73971592e+06 2.53386103e+06\n",
            " 5.02268998e+06 4.07444386e+06 5.30921008e+06 2.56726797e+02\n",
            " 3.54520012e+06 5.61030192e+06 3.95934416e+06 1.91697767e+06\n",
            " 3.01683891e+06 4.89050527e+06 2.56726797e+02 3.20270148e+06\n",
            " 4.17013301e+06 2.56726797e+02 2.56726797e+02 3.07184655e+06\n",
            " 3.94835011e+06 3.33265673e+06 2.56726797e+02 3.87666953e+06\n",
            " 4.40943209e+06 3.10356606e+06 3.41100567e+06 3.30060952e+06\n",
            " 2.56726797e+02 3.76697193e+06 3.45359287e+06 2.94387120e+06\n",
            " 1.80430306e+06 2.56726797e+02 3.48687535e+06 1.83728645e+06\n",
            " 3.47205471e+06 2.16409094e+06 2.64167722e+06 2.56726797e+02\n",
            " 2.56726797e+02 2.56726797e+02 2.56726797e+02 2.56726797e+02\n",
            " 2.56726797e+02 3.44789186e+06 1.88674102e+06 1.53693703e+06\n",
            " 3.63895244e+06 3.06604706e+06 2.56726797e+02 2.68891077e+06\n",
            " 3.04058190e+06 3.24220990e+06 3.32561238e+06 2.56726797e+02\n",
            " 3.78475067e+06 5.05996451e+06 2.56726797e+02 2.56726797e+02\n",
            " 2.57790827e+06 3.64982438e+06 3.24069223e+06 2.56726797e+02\n",
            " 3.60422696e+06 2.56726797e+02 3.62614855e+06 2.73044306e+06\n",
            " 2.78610252e+06 9.18771586e+05 2.56726797e+02 3.80781251e+06\n",
            " 2.56726797e+02 1.26705888e+06 3.16241078e+06 3.00193168e+06\n",
            " 2.56726797e+02 2.56726797e+02 2.56726797e+02 2.56726797e+02\n",
            " 2.57200407e+06 1.62885758e+06 2.56726797e+02 1.94325566e+06\n",
            " 3.70418711e+06 3.04784009e+06 2.56726797e+02 2.60489013e+06\n",
            " 2.56726797e+02 2.68070458e+06 3.80773161e+06 2.56726797e+02\n",
            " 2.56726797e+02 2.66614573e+06 9.33636554e+05 2.56726797e+02\n",
            " 4.49458480e+06 2.56726797e+02 2.83564944e+06 3.43680084e+06\n",
            " 5.91191566e+06 3.59890453e+06 3.61164759e+06 3.94766542e+06\n",
            " 3.60509255e+06 2.56726797e+02 2.25212424e+06 2.99239234e+06\n",
            " 2.56726797e+02 2.56726797e+02 3.18845344e+06 1.26705888e+06\n",
            " 5.06977588e+05 2.85042942e+06 3.46040661e+06 2.56726797e+02\n",
            " 3.18146600e+06 3.17114234e+06 3.27969074e+05 1.79522861e+06\n",
            " 2.56726797e+02 4.13457144e+06 4.20841176e+06 1.40289062e+06\n",
            " 3.39714819e+06 3.44175437e+06 2.56726797e+02 2.56726797e+02\n",
            " 2.56726797e+02 4.05562361e+06 3.56928196e+06 2.56726797e+02\n",
            " 4.61029762e+06 2.56726797e+02 3.33443914e+06 2.56726797e+02\n",
            " 2.56726797e+02 2.56726797e+02 2.81648703e+06 4.29851409e+06\n",
            " 3.36191671e+06 4.08569746e+06 3.48492546e+06 2.56726797e+02\n",
            " 1.18603283e+06]\n",
            "2017\n",
            "178\n",
            "[ 4928.89565138 27017.91214324] 236.40958979145697\n",
            "[3.71346013e+06 4.52845920e+06 1.59344236e+06 1.95450017e+06\n",
            " 2.14423159e+06 3.32086438e+06 2.36409590e+02 3.24185194e+06\n",
            " 2.78765016e+06 4.90383650e+06 3.28099151e+06 3.50069782e+06\n",
            " 2.70202762e+06 1.56375549e+06 4.62626404e+06 2.11867057e+06\n",
            " 3.45140886e+06 2.36409590e+02 2.36409590e+02 2.73652989e+06\n",
            " 2.36409590e+02 3.92581903e+06 2.36409590e+02 2.70202762e+06\n",
            " 5.42548672e+06 2.36409590e+02 4.01901059e+06 2.72174321e+06\n",
            " 2.36409590e+02 3.64266571e+06 4.07337331e+06 2.19124275e+06\n",
            " 2.36409590e+02 3.42458411e+06 2.36409590e+02 5.13224266e+06\n",
            " 4.57812076e+06 2.70116177e+06 3.77796958e+06 3.21914219e+06\n",
            " 4.43394076e+06 3.24238587e+06 2.36409590e+02 2.93967805e+06\n",
            " 4.11885328e+06 6.37333039e+06 4.18107452e+06 1.35606091e+06\n",
            " 3.94392614e+06 4.24643616e+06 2.36409590e+02 2.91261869e+06\n",
            " 3.12727457e+06 3.66361869e+06 4.83199420e+06 2.36409590e+02\n",
            " 2.74145879e+06 4.39779605e+06 2.36409590e+02 4.23599228e+06\n",
            " 2.36409590e+02 1.92985569e+06 1.81110822e+06 3.76959529e+06\n",
            " 2.44887551e+06 1.82096602e+06 1.08095290e+06 2.62618332e+06\n",
            " 4.13078087e+06 3.68139697e+06 2.36409590e+02 4.28614493e+06\n",
            " 2.36409590e+02 7.77067055e+05 2.41223226e+06 4.30290625e+06\n",
            " 3.26936688e+06 3.46588686e+06 3.98805545e+06 3.91490957e+06\n",
            " 3.83899995e+06 2.50545358e+06 6.30432585e+06 3.40152591e+06\n",
            " 2.70202762e+06 3.26423991e+06 4.01674722e+06 2.96247210e+06\n",
            " 3.71790971e+06 3.86895161e+06 2.36409590e+02 1.94181268e+06\n",
            " 2.56322640e+06 4.16135894e+06 2.36409590e+02 2.64447541e+06\n",
            " 2.36409590e+02 3.17862359e+06 2.90168250e+06 1.81110822e+06\n",
            " 4.09728329e+06 2.36409590e+02 2.79795906e+06 3.91434834e+06\n",
            " 2.36409590e+02 2.36409590e+02 3.38106896e+06 3.17511469e+06\n",
            " 2.36409590e+02 2.36409590e+02 2.36409590e+02 3.55720334e+06\n",
            " 3.76416629e+06 4.00130368e+06 3.59372009e+06 9.10601213e+05\n",
            " 1.35606091e+06 2.36409590e+02 2.36409590e+02 2.44101961e+06\n",
            " 4.05292323e+06 4.76041921e+06 4.09435423e+06 2.62175445e+06\n",
            " 3.32947456e+06 3.97257226e+06 2.36409590e+02 4.60351417e+06\n",
            " 2.36409590e+02 4.60797195e+06 3.41282029e+06 2.36409590e+02\n",
            " 2.72667210e+06 3.69860777e+06 1.54010393e+06 3.15214604e+06\n",
            " 3.95618866e+06 2.36409590e+02 3.52381510e+06 2.36409590e+02\n",
            " 2.36409590e+02 6.03827489e+05 2.70202762e+06 2.51771561e+06\n",
            " 2.36409590e+02 2.36409590e+02 3.83948745e+06 3.40574110e+06\n",
            " 3.62362875e+06 3.92475448e+06 2.36409590e+02 2.36409590e+02\n",
            " 2.20110055e+06 3.48919444e+06 2.84997551e+06 4.74034754e+06\n",
            " 4.08804825e+06 3.30999918e+06 1.73599094e+06 2.36409590e+02\n",
            " 2.36409590e+02 2.36409590e+02 6.33882812e+06 3.92646336e+06\n",
            " 1.68885592e+06 1.97808984e+06 2.07845421e+06 1.10066848e+06\n",
            " 3.88737769e+06 2.36409590e+02 3.45417562e+06 2.00563516e+06\n",
            " 2.07093988e+06 3.49632391e+06 3.44772297e+06 3.98478564e+06\n",
            " 1.37247413e+06 8.51022970e+05]\n"
          ]
        }
      ]
    },
    {
      "cell_type": "markdown",
      "source": [
        "# Logistic Regression\n",
        "\n",
        "Logistic regression is a process of modeling the probability of a discrete outcome given an input variable. The most common logistic regression models a binary outcome; something that can take two values such as true/false, yes/no, and so on.\n",
        "\n",
        "In this week you will be doing logistic regression on breast cancer dataset using sklearn library. Feel free to create any new functions required."
      ],
      "metadata": {
        "id": "aTAky_OS1w0P"
      }
    },
    {
      "cell_type": "code",
      "source": [
        "#importinf libraries\n",
        "\n",
        "from sklearn.preprocessing import StandardScaler\n",
        "from sklearn.model_selection import train_test_split"
      ],
      "metadata": {
        "id": "E56ck0_P2NR9"
      },
      "execution_count": null,
      "outputs": []
    },
    {
      "cell_type": "markdown",
      "source": [
        "Prepare Data"
      ],
      "metadata": {
        "id": "qojSAol72cmH"
      }
    },
    {
      "cell_type": "code",
      "source": [
        "breast_cancer = datasets.load_breast_cancer()\n",
        "X, y = breast_cancer.data, breast_cancer.target\n",
        "print(X,y)"
      ],
      "metadata": {
        "id": "_uUSV8Xk2ePh",
        "colab": {
          "base_uri": "https://localhost:8080/"
        },
        "outputId": "0d5968f7-e28c-4a5f-9817-4ca43d128002"
      },
      "execution_count": null,
      "outputs": [
        {
          "output_type": "stream",
          "name": "stdout",
          "text": [
            "[[1.799e+01 1.038e+01 1.228e+02 ... 2.654e-01 4.601e-01 1.189e-01]\n",
            " [2.057e+01 1.777e+01 1.329e+02 ... 1.860e-01 2.750e-01 8.902e-02]\n",
            " [1.969e+01 2.125e+01 1.300e+02 ... 2.430e-01 3.613e-01 8.758e-02]\n",
            " ...\n",
            " [1.660e+01 2.808e+01 1.083e+02 ... 1.418e-01 2.218e-01 7.820e-02]\n",
            " [2.060e+01 2.933e+01 1.401e+02 ... 2.650e-01 4.087e-01 1.240e-01]\n",
            " [7.760e+00 2.454e+01 4.792e+01 ... 0.000e+00 2.871e-01 7.039e-02]] [0 0 0 0 0 0 0 0 0 0 0 0 0 0 0 0 0 0 0 1 1 1 0 0 0 0 0 0 0 0 0 0 0 0 0 0 0\n",
            " 1 0 0 0 0 0 0 0 0 1 0 1 1 1 1 1 0 0 1 0 0 1 1 1 1 0 1 0 0 1 1 1 1 0 1 0 0\n",
            " 1 0 1 0 0 1 1 1 0 0 1 0 0 0 1 1 1 0 1 1 0 0 1 1 1 0 0 1 1 1 1 0 1 1 0 1 1\n",
            " 1 1 1 1 1 1 0 0 0 1 0 0 1 1 1 0 0 1 0 1 0 0 1 0 0 1 1 0 1 1 0 1 1 1 1 0 1\n",
            " 1 1 1 1 1 1 1 1 0 1 1 1 1 0 0 1 0 1 1 0 0 1 1 0 0 1 1 1 1 0 1 1 0 0 0 1 0\n",
            " 1 0 1 1 1 0 1 1 0 0 1 0 0 0 0 1 0 0 0 1 0 1 0 1 1 0 1 0 0 0 0 1 1 0 0 1 1\n",
            " 1 0 1 1 1 1 1 0 0 1 1 0 1 1 0 0 1 0 1 1 1 1 0 1 1 1 1 1 0 1 0 0 0 0 0 0 0\n",
            " 0 0 0 0 0 0 0 1 1 1 1 1 1 0 1 0 1 1 0 1 1 0 1 0 0 1 1 1 1 1 1 1 1 1 1 1 1\n",
            " 1 0 1 1 0 1 0 1 1 1 1 1 1 1 1 1 1 1 1 1 1 0 1 1 1 0 1 0 1 1 1 1 0 0 0 1 1\n",
            " 1 1 0 1 0 1 0 1 1 1 0 1 1 1 1 1 1 1 0 0 0 1 1 1 1 1 1 1 1 1 1 1 0 0 1 0 0\n",
            " 0 1 0 0 1 1 1 1 1 0 1 1 1 1 1 0 1 1 1 0 1 1 0 0 1 1 1 1 1 1 0 1 1 1 1 1 1\n",
            " 1 0 1 1 1 1 1 0 1 1 0 1 1 1 1 1 1 1 1 1 1 1 1 0 1 0 0 1 0 1 1 1 1 1 0 1 1\n",
            " 0 1 0 1 1 0 1 0 1 1 1 1 1 1 1 1 0 0 1 1 1 1 1 1 0 1 1 1 1 1 1 1 1 1 1 0 1\n",
            " 1 1 1 1 1 1 0 1 0 1 1 0 1 1 1 1 1 0 0 1 0 1 0 1 1 1 1 1 0 1 1 0 1 0 1 0 0\n",
            " 1 1 1 0 1 1 1 1 1 1 1 1 1 1 1 0 1 0 0 1 1 1 1 1 1 1 1 1 1 1 1 1 1 1 1 1 1\n",
            " 1 1 1 1 1 1 1 0 0 0 0 0 0 1]\n"
          ]
        }
      ]
    },
    {
      "cell_type": "code",
      "source": [
        "#spliting data for training and testing\n",
        "X_train, X_test, y_train, y_test = train_test_split(X, y, test_size=0.2, random_state=1234)\n",
        "sc = StandardScaler()\n",
        "X_train = sc.fit_transform(X_train)\n",
        "X_test = sc.transform(X_test)"
      ],
      "metadata": {
        "id": "N6jcbk5g29XW",
        "colab": {
          "base_uri": "https://localhost:8080/"
        },
        "outputId": "9a6cf21c-2cc6-4d6c-8c82-236449998f60"
      },
      "execution_count": null,
      "outputs": [
        {
          "output_type": "stream",
          "name": "stdout",
          "text": [
            "[[-0.36180827 -0.26521011 -0.31715702 ... -0.07967528 -0.52798733\n",
            "   0.2506337 ]\n",
            " [-0.8632675   0.71560604 -0.85646012 ... -0.76980239  0.44312729\n",
            "  -0.20987332]\n",
            " [-0.4334453   0.32513895 -0.41286667 ... -0.06601541 -1.1169427\n",
            "   0.0329492 ]\n",
            " ...\n",
            " [-0.479293   -0.17689018 -0.45697634 ... -0.20261414  0.18670009\n",
            "   0.17414996]\n",
            " [ 1.16835876 -0.15364809  1.17466524 ...  0.26789258  0.19828067\n",
            "  -0.23394164]\n",
            " [-0.40765597 -1.29715887 -0.42826344 ... -0.78042674 -0.88036793\n",
            "  -0.80355834]]\n"
          ]
        }
      ]
    },
    {
      "cell_type": "markdown",
      "source": [
        "Forward pass"
      ],
      "metadata": {
        "id": "ofghhz-63Ru5"
      }
    },
    {
      "cell_type": "code",
      "source": [
        "def forward_log(x,w,b):\n",
        "  a=np.dot(x,w)+b\n",
        "  return 1/(1+np.exp(-a))\n"
      ],
      "metadata": {
        "id": "K1JzUVko3Zob"
      },
      "execution_count": null,
      "outputs": []
    },
    {
      "cell_type": "markdown",
      "source": [
        "Binary cross entropy loss"
      ],
      "metadata": {
        "id": "R4ldHUJs3d2V"
      }
    },
    {
      "cell_type": "code",
      "source": [
        "def BCELoss(y,y_pred):\n",
        "  # print(len(y))\n",
        "  return (-1/len(y))*np.sum(y*np.log(y_pred)+(1-y)*np.log(1-y_pred))"
      ],
      "metadata": {
        "id": "QkXgo04D3dGW"
      },
      "execution_count": null,
      "outputs": []
    },
    {
      "cell_type": "markdown",
      "source": [
        "Implement Logistic Regression here :)"
      ],
      "metadata": {
        "id": "OIuuOJcJ3sti"
      }
    },
    {
      "cell_type": "code",
      "source": [
        "def train(x, y, learning_rate, epochs):\n",
        "    num_samples, num_features = x.shape\n",
        "    w = np.zeros(num_features)\n",
        "    b = 0\n",
        "    for epoch in range(epochs):\n",
        "        y_pred = forward_log(x,w,b)\n",
        "\n",
        "        dw = (1 / num_samples) *np.dot(x.T, ( y_pred-y))\n",
        "        db =  (1 / num_samples)*np.sum( y_pred-y)\n",
        "        w =w- learning_rate * dw\n",
        "        b =b- learning_rate * db\n",
        "    yk=forward_log(x,w,b)\n",
        "    return yk\n",
        "\n",
        "\n",
        "learning_rate=0.0000001\n",
        "epochs=100\n",
        "\n",
        "y_trained=train(X_train, y_train, learning_rate, epochs)\n",
        "# print(y_trained)\n",
        "y_predicted=[0 if y<=0.5 else 1 for y in y_trained]\n",
        "print(y_predicted)\n",
        "print(BCELoss(y_train,y_trained))\n",
        "\n"
      ],
      "metadata": {
        "id": "gBJ6H_ss3yUr",
        "colab": {
          "base_uri": "https://localhost:8080/"
        },
        "outputId": "a9a3a514-1779-4cc9-8fdc-c7809eb7e811"
      },
      "execution_count": null,
      "outputs": [
        {
          "output_type": "stream",
          "name": "stdout",
          "text": [
            "[1, 1, 1, 0, 1, 0, 1, 1, 1, 1, 0, 1, 0, 0, 1, 1, 0, 1, 0, 1, 1, 1, 1, 1, 1, 0, 1, 0, 0, 1, 0, 1, 0, 1, 0, 0, 1, 1, 0, 0, 1, 0, 1, 0, 0, 0, 1, 1, 0, 1, 1, 1, 1, 1, 1, 1, 0, 1, 1, 0, 1, 1, 1, 1, 1, 1, 1, 1, 1, 0, 1, 0, 1, 1, 1, 1, 0, 1, 1, 0, 0, 1, 0, 0, 1, 0, 1, 1, 1, 0, 1, 1, 0, 1, 1, 1, 1, 0, 1, 1, 1, 1, 1, 1, 0, 1, 1, 0, 0, 0, 1, 0, 1, 0, 1, 1, 1, 1, 1, 1, 0, 1, 0, 1, 1, 1, 0, 0, 0, 1, 1, 1, 1, 1, 1, 1, 0, 1, 1, 1, 1, 0, 0, 0, 0, 1, 0, 1, 1, 0, 0, 1, 1, 1, 0, 0, 1, 1, 1, 0, 1, 1, 0, 0, 0, 1, 1, 1, 1, 1, 1, 1, 1, 1, 1, 0, 0, 0, 0, 0, 1, 1, 0, 1, 1, 0, 1, 0, 0, 0, 1, 1, 1, 0, 0, 1, 0, 0, 1, 1, 0, 1, 0, 0, 1, 1, 1, 0, 1, 0, 0, 1, 1, 1, 1, 1, 1, 1, 1, 0, 1, 1, 1, 1, 1, 0, 1, 0, 1, 1, 0, 1, 0, 0, 1, 0, 1, 0, 1, 1, 1, 1, 1, 1, 0, 1, 1, 1, 0, 1, 1, 0, 1, 1, 1, 1, 1, 1, 0, 1, 0, 1, 1, 1, 1, 0, 0, 1, 1, 1, 1, 0, 1, 0, 1, 1, 0, 0, 1, 0, 1, 1, 1, 0, 0, 1, 1, 1, 0, 1, 0, 0, 1, 1, 1, 1, 0, 1, 0, 0, 0, 1, 0, 0, 0, 1, 1, 0, 1, 0, 1, 1, 0, 0, 1, 0, 1, 1, 0, 0, 0, 0, 0, 1, 0, 1, 0, 1, 0, 1, 1, 0, 1, 1, 1, 1, 1, 1, 1, 0, 1, 1, 0, 1, 0, 0, 0, 0, 1, 0, 1, 1, 1, 1, 0, 0, 0, 0, 1, 0, 1, 1, 0, 1, 0, 1, 1, 1, 0, 0, 1, 1, 0, 1, 0, 0, 0, 0, 0, 1, 0, 0, 1, 1, 1, 0, 0, 0, 0, 1, 0, 1, 1, 1, 1, 1, 1, 1, 1, 0, 0, 1, 1, 1, 0, 1, 0, 1, 0, 1, 0, 0, 1, 1, 1, 0, 1, 0, 1, 0, 1, 1, 1, 0, 0, 1, 1, 1, 0, 0, 1, 1, 1, 1, 1, 1, 1, 1, 1, 1, 1, 1, 1, 1, 1, 1, 1, 0, 1, 0, 1, 0, 1, 0, 1]\n",
            "0.6931266135112278\n"
          ]
        }
      ]
    }
  ]
}